{
 "cells": [
  {
   "cell_type": "code",
   "execution_count": 1,
   "metadata": {},
   "outputs": [],
   "source": [
    "import numpy as np\n",
    "import pandas as pd"
   ]
  },
  {
   "cell_type": "code",
   "execution_count": 2,
   "metadata": {},
   "outputs": [],
   "source": [
    "# Compute pairwise sequence alignment\n",
    "# Both sequences must possess identical lengths.\n",
    "def pairwise_sequence_alignment(seq_1,seq_2):\n",
    "    count_missmatch = 0\n",
    "    for i in range(len(seq_1)):\n",
    "        if seq_1[i] != seq_2[i]:\n",
    "            count_missmatch += 1\n",
    "    return count_missmatch"
   ]
  },
  {
   "cell_type": "code",
   "execution_count": 3,
   "metadata": {},
   "outputs": [],
   "source": [
    "# Count the mismatches and records them in the mismatche matrix\n",
    "# min of mismatche_matrix is added in this function since we will use it later \n",
    "# outuput: dataframe \n",
    "def  mismatche_matrix(seq_list, seq_names):\n",
    "    n = len(seq_list)\n",
    "    mismatch_m = np.zeros((n,n))\n",
    "\n",
    "    for i in range(n):\n",
    "        sub_seq_list = seq_list[i+1:]\n",
    "        for j in range(len(sub_seq_list)):\n",
    "            matrix_j = j+i+1\n",
    "            pairwise_seq = pairwise_sequence_alignment(seq_list[i],sub_seq_list[j])\n",
    "            mismatch_m[i][matrix_j] = mismatch_m[matrix_j][i] = pairwise_seq\n",
    "\n",
    "    mismatch_matrix_df = pd.DataFrame(data=mismatch_m, columns=seq_names ,index=seq_names)\n",
    "    \n",
    "    return mismatch_matrix_df"
   ]
  },
  {
   "cell_type": "code",
   "execution_count": 4,
   "metadata": {},
   "outputs": [],
   "source": [
    "# This function return Minimum value greater than 0 in a dataframe\n",
    "def min_val_index_df(df): \n",
    "    \n",
    "    # Finding the minimum value greater than 0\n",
    "    min_val = df[df > 0].min().min()\n",
    "\n",
    "    # Getting the indices of the minimum value\n",
    "    indices = df[df == min_val].stack().index.tolist()\n",
    "    \n",
    "    return min_val, list(indices[-1])"
   ]
  },
  {
   "cell_type": "code",
   "execution_count": 5,
   "metadata": {},
   "outputs": [],
   "source": [
    "# This function calculate the distance between the new cluster and the others\n",
    "def cal_cluster_distance(df,df_copy,min_indices):\n",
    "    cluster_missmatch_socre = []\n",
    "    cluster_i = min_indices[0]\n",
    "    cluster_j = min_indices[1]\n",
    "\n",
    "    for col in df_copy.columns: \n",
    "        if col is not cluster_i and col is not cluster_j :\n",
    "            distance = 0 \n",
    "            for cat_i in cluster_i:\n",
    "                for cat_j in cluster_j:\n",
    "                    distance += df[cat_i][cat_j]\n",
    "            distance = distance/(len(cluster_i)*len(cluster_j))\n",
    "            cluster_missmatch_socre.append(distance)\n",
    "    return cluster_missmatch_socre"
   ]
  },
  {
   "cell_type": "code",
   "execution_count": 13,
   "metadata": {},
   "outputs": [],
   "source": [
    "def upgma_algorithm(seq_list,seq_names):\n",
    "    # Compute mismatch \n",
    "    df = mismatche_matrix(seq_list,seq_names)\n",
    "    df_copy = df.copy()\n",
    "    dict_tree_newick_format = {} \n",
    "    while len(df_copy) > 1: \n",
    "        \n",
    "        # Find the pairs (i,j)\n",
    "        min_val, min_indices = min_val_index_df(df_copy)\n",
    "        print(min_val_index_df(df_copy))\n",
    "        # Create new cluster  for pairs (i,j)\n",
    "        ## intialize the new cluster name u \n",
    "        new_cluster_name = min_indices[0]+min_indices[1]\n",
    "        ## calculate the distance between u_i and u_j\n",
    "        print(min_val)\n",
    "        cluster_branch_distance = min_val/2\n",
    "        ## update the tree_newick_format \n",
    "        i = str(min_indices[0])\n",
    "        j = min_indices[1]\n",
    "   \n",
    "        '''\n",
    "        if len(min_indices[0]) > 1:\n",
    "            i = dict_tree_newick_format[min_indices[0]] \n",
    "        if len(min_indices[1]) > 1:\n",
    "            j = dict_tree_newick_format[min_indices[1]] \n",
    "        '''\n",
    "\n",
    "        tree_newick_format = \"(\"+i+\":\"+str(cluster_branch_distance)+\",\"+j+\":\"+str(cluster_branch_distance)+\")\"\n",
    "        print(tree_newick_format)\n",
    "\n",
    "        '''\n",
    "        if len(new_cluster_name) > 1:\n",
    "            dict_tree_newick_format[new_cluster_name] = tree_newick_format\n",
    "        '''\n",
    "        ## Compute the distance between the new cluster and the others \n",
    "        cluster_missmatch_socre = cal_cluster_distance(df,df_copy,min_indices)\n",
    "\n",
    "\n",
    "        # Upadte the mismatch matrix\n",
    "        ## Delete pairs i j from the df \n",
    "        df_copy.drop(min_indices, axis=1, inplace=True)\n",
    "        df_copy.drop(min_indices, axis=0, inplace=True)\n",
    "\n",
    "        ## create new col with new cluster name and a new row \n",
    "        ### add col\n",
    "        df_copy[new_cluster_name] = cluster_missmatch_socre\n",
    "        ### add row \n",
    "        cluster_missmatch_socre.append(0)\n",
    "        df_copy.loc[new_cluster_name] = cluster_missmatch_socre\n",
    "        \n",
    "\n",
    "    return list(dict_tree_newick_format.items())[-1][1]"
   ]
  },
  {
   "cell_type": "code",
   "execution_count": 14,
   "metadata": {},
   "outputs": [
    {
     "name": "stdout",
     "output_type": "stream",
     "text": [
      "(3.0, ['C', 'A'])\n",
      "3.0\n",
      "(C:1.5,A:1.5)\n",
      "(3.0, ['CA', 'E'])\n",
      "3.0\n",
      "(CA:1.5,E:1.5)\n",
      "(5.0, ['CAE', 'D'])\n",
      "5.0\n",
      "(CAE:2.5,D:2.5)\n",
      "(4.666666666666667, ['CAED', 'B'])\n",
      "4.666666666666667\n",
      "(CAED:2.3333333333333335,B:2.3333333333333335)\n"
     ]
    },
    {
     "ename": "IndexError",
     "evalue": "list index out of range",
     "output_type": "error",
     "traceback": [
      "\u001b[1;31m---------------------------------------------------------------------------\u001b[0m",
      "\u001b[1;31mIndexError\u001b[0m                                Traceback (most recent call last)",
      "Cell \u001b[1;32mIn[14], line 10\u001b[0m\n\u001b[0;32m      8\u001b[0m seq_list \u001b[38;5;241m=\u001b[39m [a,b,c,d,e]\n\u001b[0;32m      9\u001b[0m seq_names \u001b[38;5;241m=\u001b[39m [\u001b[38;5;124m'\u001b[39m\u001b[38;5;124mA\u001b[39m\u001b[38;5;124m'\u001b[39m,\u001b[38;5;124m'\u001b[39m\u001b[38;5;124mB\u001b[39m\u001b[38;5;124m'\u001b[39m,\u001b[38;5;124m'\u001b[39m\u001b[38;5;124mC\u001b[39m\u001b[38;5;124m'\u001b[39m,\u001b[38;5;124m'\u001b[39m\u001b[38;5;124mD\u001b[39m\u001b[38;5;124m'\u001b[39m,\u001b[38;5;124m'\u001b[39m\u001b[38;5;124mE\u001b[39m\u001b[38;5;124m'\u001b[39m]\n\u001b[1;32m---> 10\u001b[0m \u001b[43mupgma_algorithm\u001b[49m\u001b[43m(\u001b[49m\u001b[43mseq_list\u001b[49m\u001b[43m,\u001b[49m\u001b[43mseq_names\u001b[49m\u001b[43m)\u001b[49m\n",
      "Cell \u001b[1;32mIn[13], line 52\u001b[0m, in \u001b[0;36mupgma_algorithm\u001b[1;34m(seq_list, seq_names)\u001b[0m\n\u001b[0;32m     48\u001b[0m     cluster_missmatch_socre\u001b[38;5;241m.\u001b[39mappend(\u001b[38;5;241m0\u001b[39m)\n\u001b[0;32m     49\u001b[0m     df_copy\u001b[38;5;241m.\u001b[39mloc[new_cluster_name] \u001b[38;5;241m=\u001b[39m cluster_missmatch_socre\n\u001b[1;32m---> 52\u001b[0m \u001b[38;5;28;01mreturn\u001b[39;00m \u001b[38;5;28;43mlist\u001b[39;49m\u001b[43m(\u001b[49m\u001b[43mdict_tree_newick_format\u001b[49m\u001b[38;5;241;43m.\u001b[39;49m\u001b[43mitems\u001b[49m\u001b[43m(\u001b[49m\u001b[43m)\u001b[49m\u001b[43m)\u001b[49m\u001b[43m[\u001b[49m\u001b[38;5;241;43m-\u001b[39;49m\u001b[38;5;241;43m1\u001b[39;49m\u001b[43m]\u001b[49m[\u001b[38;5;241m1\u001b[39m]\n",
      "\u001b[1;31mIndexError\u001b[0m: list index out of range"
     ]
    }
   ],
   "source": [
    "# Sequences \n",
    "a = \"ATCGATCG\"\n",
    "b = \"GTAGACGA\"\n",
    "c = \"ACCGTACG\"\n",
    "d = \"TCAGTCAG\"\n",
    "e = \"GCCTACAG\"\n",
    "\n",
    "seq_list = [a,b,c,d,e]\n",
    "seq_names = ['A','B','C','D','E']\n",
    "upgma_algorithm(seq_list,seq_names)"
   ]
  },
  {
   "cell_type": "markdown",
   "metadata": {},
   "source": [
    "----"
   ]
  },
  {
   "cell_type": "code",
   "execution_count": 8,
   "metadata": {},
   "outputs": [
    {
     "name": "stdout",
     "output_type": "stream",
     "text": [
      "(6.0, ['B', 'A'])\n",
      "6.0\n",
      "(B:3.0,A:3.0)\n",
      "(6.0, ['BA', 'G'])\n",
      "6.0\n",
      "((B:3.0,A:3.0):3.0,G:3.0)\n",
      "(7.0, ['BAG', 'F'])\n",
      "7.0\n",
      "(((B:3.0,A:3.0):3.0,G:3.0):3.5,F:3.5)\n",
      "(7.0, ['BAGF', 'E'])\n",
      "7.0\n",
      "((((B:3.0,A:3.0):3.0,G:3.0):3.5,F:3.5):3.5,E:3.5)\n",
      "(7.0, ['BAGFE', 'D'])\n",
      "7.0\n",
      "(((((B:3.0,A:3.0):3.0,G:3.0):3.5,F:3.5):3.5,E:3.5):3.5,D:3.5)\n",
      "(7.0, ['BAGFED', 'C'])\n",
      "7.0\n",
      "((((((B:3.0,A:3.0):3.0,G:3.0):3.5,F:3.5):3.5,E:3.5):3.5,D:3.5):3.5,C:3.5)\n"
     ]
    },
    {
     "data": {
      "text/plain": [
       "'((((((B:3.0,A:3.0):3.0,G:3.0):3.5,F:3.5):3.5,E:3.5):3.5,D:3.5):3.5,C:3.5)'"
      ]
     },
     "execution_count": 8,
     "metadata": {},
     "output_type": "execute_result"
    }
   ],
   "source": [
    "example = [[0,19,27,8,33,18,13],\n",
    "           [19,0,31,18,36,1,13],\n",
    "           [27,31,0,26,41,32,29],\n",
    "           [8,18,26,0,31,17,14],\n",
    "           [33,36,41,31,0,35,28],\n",
    "           [18,1,32,17,35,0,12],\n",
    "           [13,13,29,14,28,12,0]]\n",
    "seq_names = ['A','B','C','D','E','F','G']\n",
    "upgma_algorithm(example,seq_names)"
   ]
  },
  {
   "cell_type": "code",
   "execution_count": 9,
   "metadata": {},
   "outputs": [
    {
     "name": "stdout",
     "output_type": "stream",
     "text": [
      "(6.0, ['B', 'A'])\n",
      "6.0\n",
      "(B:3.0,A:3.0)\n",
      "(6.0, ['BA', 'G'])\n",
      "6.0\n",
      "((B:3.0,A:3.0):3.0,G:3.0)\n",
      "(7.0, ['BAG', 'F'])\n",
      "7.0\n",
      "(((B:3.0,A:3.0):3.0,G:3.0):3.5,F:3.5)\n",
      "(7.0, ['BAGF', 'E'])\n",
      "7.0\n",
      "((((B:3.0,A:3.0):3.0,G:3.0):3.5,F:3.5):3.5,E:3.5)\n",
      "(7.0, ['BAGFE', 'D'])\n",
      "7.0\n",
      "(((((B:3.0,A:3.0):3.0,G:3.0):3.5,F:3.5):3.5,E:3.5):3.5,D:3.5)\n",
      "(7.0, ['BAGFED', 'C'])\n",
      "7.0\n",
      "((((((B:3.0,A:3.0):3.0,G:3.0):3.5,F:3.5):3.5,E:3.5):3.5,D:3.5):3.5,C:3.5)\n"
     ]
    },
    {
     "data": {
      "text/plain": [
       "'((((((B:3.0,A:3.0):3.0,G:3.0):3.5,F:3.5):3.5,E:3.5):3.5,D:3.5):3.5,C:3.5)'"
      ]
     },
     "execution_count": 9,
     "metadata": {},
     "output_type": "execute_result"
    }
   ],
   "source": [
    "m3 = [[0,19,27,8,33,18,13],\n",
    "      [19,0,31,18,36,1,13],\n",
    "      [27,31,0,26,41,32,29],\n",
    "      [8,18,26,0,31,17,14],\n",
    "      [33,36,41,31,0,35,28],\n",
    "      [18,1,32,17,35,0,12],\n",
    "      [13,13,29,14,28,12,0]]\n",
    "seq_names = ['A','B','C','D','E','F','G']\n",
    "upgma_algorithm(m3,seq_names)"
   ]
  },
  {
   "cell_type": "markdown",
   "metadata": {},
   "source": [
    "----\n",
    "To do edit this code "
   ]
  },
  {
   "cell_type": "code",
   "execution_count": 10,
   "metadata": {},
   "outputs": [
    {
     "name": "stdout",
     "output_type": "stream",
     "text": [
      "A C\n",
      "A k\n",
      "B C\n",
      "B k\n",
      "E C\n",
      "E k\n"
     ]
    }
   ],
   "source": [
    "mm = 'ABE'\n",
    "nn = 'Ck'\n",
    "for cat_i in mm:\n",
    "    for cat_j in nn:\n",
    "        print(cat_i,cat_j)"
   ]
  },
  {
   "cell_type": "code",
   "execution_count": null,
   "metadata": {},
   "outputs": [],
   "source": [
    "\n"
   ]
  }
 ],
 "metadata": {
  "kernelspec": {
   "display_name": "Python 3",
   "language": "python",
   "name": "python3"
  },
  "language_info": {
   "codemirror_mode": {
    "name": "ipython",
    "version": 3
   },
   "file_extension": ".py",
   "mimetype": "text/x-python",
   "name": "python",
   "nbconvert_exporter": "python",
   "pygments_lexer": "ipython3",
   "version": "3.11.5"
  }
 },
 "nbformat": 4,
 "nbformat_minor": 2
}
