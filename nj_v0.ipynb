{
 "cells": [
  {
   "cell_type": "code",
   "execution_count": null,
   "metadata": {},
   "outputs": [],
   "source": [
    "import numpy as np "
   ]
  },
  {
   "cell_type": "code",
   "execution_count": null,
   "metadata": {},
   "outputs": [],
   "source": [
    "#Neighbor Joining\n",
    "example_1 = [[0,2,4,6,6,8],\n",
    "      [2,0,4,6,6,8],\n",
    "      [4,4,0,6,6,8],\n",
    "      [6,6,6,0,4,8],\n",
    "      [6,6,6,4,0,8],\n",
    "      [8,8,8,8,8,0]]"
   ]
  }
 ],
 "metadata": {
  "language_info": {
   "name": "python"
  }
 },
 "nbformat": 4,
 "nbformat_minor": 2
}
