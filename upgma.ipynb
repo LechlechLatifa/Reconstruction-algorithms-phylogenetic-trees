{
 "cells": [
  {
   "cell_type": "code",
   "execution_count": 4,
   "metadata": {},
   "outputs": [],
   "source": [
    "import numpy as np\n",
    "import pandas as pd"
   ]
  },
  {
   "cell_type": "code",
   "execution_count": 2,
   "metadata": {},
   "outputs": [],
   "source": [
    "# Compute pairwise sequence alignment\n",
    "# Both sequences must possess identical lengths.\n",
    "def pairwise_sequence_alignment(seq_1,seq_2):\n",
    "    count_missmatch = 0\n",
    "    for i in range(len(seq_1)):\n",
    "        if seq_1[i] != seq_2[i]:\n",
    "            count_missmatch += 1\n",
    "    return count_missmatch"
   ]
  },
  {
   "cell_type": "code",
   "execution_count": 3,
   "metadata": {},
   "outputs": [],
   "source": [
    "# Count the mismatches and records them in the mismatche matrix\n",
    "# min of mismatche_matrix is added in this function since we will use it later \n",
    "# outuput: dataframe \n",
    "def  mismatche_matrix(seq_list, seq_names):\n",
    "    n = len(seq_list)\n",
    "    mismatch_m = np.zeros((n,n))\n",
    "\n",
    "    for i in range(n):\n",
    "        sub_seq_list = seq_list[i+1:]\n",
    "        for j in range(len(sub_seq_list)):\n",
    "            matrix_j = j+i+1\n",
    "            pairwise_seq = pairwise_sequence_alignment(seq_list[i],sub_seq_list[j])\n",
    "            mismatch_m[i][matrix_j] = mismatch_m[matrix_j][i] = pairwise_seq\n",
    "\n",
    "    mismatch_matrix_df = pd.DataFrame(data=mismatch_m, columns=seq_names ,index=seq_names)\n",
    "    \n",
    "    return mismatch_matrix_df"
   ]
  },
  {
   "cell_type": "code",
   "execution_count": 5,
   "metadata": {},
   "outputs": [],
   "source": [
    "# This function return Minimum value greater than 0 in a dataframe\n",
    "def min_val_index_df(df): \n",
    "    # Finding the minimum value greater than 0\n",
    "    min_val = df[df > 0].min().min()\n",
    "\n",
    "    # Getting the indices of the minimum value\n",
    "    indices = df[df == min_val].stack().index.tolist()\n",
    "    \n",
    "    return min_val, list(indices[-1])"
   ]
  },
  {
   "cell_type": "code",
   "execution_count": 6,
   "metadata": {},
   "outputs": [],
   "source": [
    "# This function calculate the distance between the new cluster and the others\n",
    "def cal_cluster_distance(df,min_indices):\n",
    "    cluster_missmatch_socre = []\n",
    "    cluster_i = min_indices[0]\n",
    "    cluster_j = min_indices[1]\n",
    "    for col in df.columns: \n",
    "        if col is not cluster_i and col is not cluster_j :\n",
    "            cluster_missmatch_socre.append((df[col][cluster_i]+df[col][cluster_j]) / 2)\n",
    "    return cluster_missmatch_socre"
   ]
  },
  {
   "cell_type": "code",
   "execution_count": 17,
   "metadata": {},
   "outputs": [],
   "source": [
    "def upgma_algorithm(seq_list,seq_names):\n",
    "    # Compute mismatch \n",
    "    df = mismatche_matrix(seq_list,seq_names)\n",
    "\n",
    "    dict_tree_newick_format = {} \n",
    "    while len(df) > 1: \n",
    "        # Find the pairs (i,j)\n",
    "        min_val, min_indices = min_val_index_df(df)\n",
    "\n",
    "        # Create new cluster  for pairs (i,j)\n",
    "        ## intialize the new cluster name u \n",
    "        new_cluster_name = min_indices[0]+min_indices[1]\n",
    "        ## calculate the distance between u_i and u_j\n",
    "        cluster_branch_distance = min_val/2\n",
    "        ## update the tree_newick_format \n",
    "        i = str(min_indices[0])\n",
    "        j = min_indices[1]\n",
    "\n",
    "        if len(min_indices[0]) > 1:\n",
    "            i = dict_tree_newick_format[min_indices[0]] \n",
    "        if len(min_indices[1]) > 1:\n",
    "            j = dict_tree_newick_format[min_indices[1]] \n",
    "\n",
    "        tree_newick_format = \"(\"+i+\":\"+str(cluster_branch_distance)+\",\"+j+\":\"+str(cluster_branch_distance)+\")\"\n",
    "\n",
    "        if len(new_cluster_name) > 1:\n",
    "            dict_tree_newick_format[new_cluster_name] = tree_newick_format\n",
    "            \n",
    "        ## Compute the distance between the new cluster and the others \n",
    "        cluster_missmatch_socre = cal_cluster_distance(df,min_indices)\n",
    "\n",
    "\n",
    "        # Upadte the mismatch matrix\n",
    "        ## Delete pairs i j from the df \n",
    "        df.drop(min_indices, axis=1, inplace=True)\n",
    "        df.drop(min_indices, axis=0, inplace=True)\n",
    "\n",
    "        ## create new col with new cluster name and a new row \n",
    "        ### add col\n",
    "        df[new_cluster_name] = cluster_missmatch_socre\n",
    "        ### add row \n",
    "        cluster_missmatch_socre.append(0)\n",
    "        df.loc[new_cluster_name] = cluster_missmatch_socre\n",
    "    \n",
    "    return list(dict_tree_newick_format.items())[-1][1]"
   ]
  },
  {
   "cell_type": "code",
   "execution_count": 18,
   "metadata": {},
   "outputs": [
    {
     "data": {
      "text/plain": [
       "'(((E:2.0,D:2.0):2.5,(C:1.5,A:1.5):2.5):2.75,B:2.75)'"
      ]
     },
     "execution_count": 18,
     "metadata": {},
     "output_type": "execute_result"
    }
   ],
   "source": [
    "# Sequences \n",
    "a = \"ATCGATCG\"\n",
    "b = \"GTAGACGA\"\n",
    "c = \"ACCGTACG\"\n",
    "d = \"TCAGTCAG\"\n",
    "e = \"GCCTACAG\"\n",
    "\n",
    "seq_list = [a,b,c,d,e]\n",
    "seq_names = ['A','B','C','D','E']\n",
    "upgma_algorithm(seq_list,seq_names)"
   ]
  },
  {
   "cell_type": "code",
   "execution_count": 19,
   "metadata": {},
   "outputs": [
    {
     "data": {
      "text/plain": [
       "'((((((B:3.0,A:3.0):3.5,G:3.5):3.5,F:3.5):3.5,E:3.5):3.5,D:3.5):3.5,C:3.5)'"
      ]
     },
     "execution_count": 19,
     "metadata": {},
     "output_type": "execute_result"
    }
   ],
   "source": [
    "m3 = [[0,19,27,8,33,18,13],\n",
    "      [19,0,31,18,36,1,13],\n",
    "      [27,31,0,26,41,32,29],\n",
    "      [8,18,26,0,31,17,14],\n",
    "      [33,36,41,31,0,35,28],\n",
    "      [18,1,32,17,35,0,12],\n",
    "      [13,13,29,14,28,12,0]]\n",
    "seq_names = ['A','B','C','D','E','F','G']\n",
    "upgma_algorithm(m3,seq_names)"
   ]
  }
 ],
 "metadata": {
  "kernelspec": {
   "display_name": "Python 3",
   "language": "python",
   "name": "python3"
  },
  "language_info": {
   "codemirror_mode": {
    "name": "ipython",
    "version": 3
   },
   "file_extension": ".py",
   "mimetype": "text/x-python",
   "name": "python",
   "nbconvert_exporter": "python",
   "pygments_lexer": "ipython3",
   "version": "3.11.5"
  }
 },
 "nbformat": 4,
 "nbformat_minor": 2
}
