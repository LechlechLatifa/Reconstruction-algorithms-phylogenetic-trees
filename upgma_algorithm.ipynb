{
 "cells": [
  {
   "cell_type": "code",
   "execution_count": null,
   "metadata": {},
   "outputs": [],
   "source": [
    "pip install Bio"
   ]
  },
  {
   "cell_type": "code",
   "execution_count": 1,
   "metadata": {},
   "outputs": [],
   "source": [
    "import numpy as np\n",
    "import pandas as pd\n",
    "from io import StringIO\n",
    "from Bio import Phylo"
   ]
  },
  {
   "cell_type": "code",
   "execution_count": 2,
   "metadata": {},
   "outputs": [],
   "source": [
    "# pairwise_sequence_alignment\n",
    "def pairwise_sequence_alignment(seq_1,seq_2):\n",
    "    count_missmatch = 0\n",
    "    for i in range(len(seq_1)):\n",
    "        if seq_1[i] != seq_2[i]:\n",
    "            count_missmatch += 1\n",
    "    return count_missmatch"
   ]
  },
  {
   "cell_type": "code",
   "execution_count": 3,
   "metadata": {},
   "outputs": [],
   "source": [
    "# mismatche_matrix function \n",
    "def  mismatche_matrix(seq_list, seq_names):\n",
    "    n = len(seq_list)\n",
    "    mismatch_m = np.zeros((n,n))\n",
    "\n",
    "    for i in range(n):\n",
    "        sub_seq_list = seq_list[i+1:]\n",
    "        for j in range(len(sub_seq_list)):\n",
    "            matrix_j = j+i+1\n",
    "            pairwise_seq = pairwise_sequence_alignment(seq_list[i],sub_seq_list[j])\n",
    "            mismatch_m[i][matrix_j] = mismatch_m[matrix_j][i] = pairwise_seq\n",
    "\n",
    "    mismatch_matrix_df = pd.DataFrame(data=mismatch_m, columns=seq_names ,index=seq_names)\n",
    "    \n",
    "    return mismatch_matrix_df"
   ]
  },
  {
   "cell_type": "code",
   "execution_count": 4,
   "metadata": {},
   "outputs": [],
   "source": [
    "# This function return Minimum value greater than 0 in a dataframe\n",
    "def min_val_index_df(df): \n",
    "    # Finding the minimum value greater than 0\n",
    "    min_val = df[df > 0].min().min()\n",
    "    # Getting the indices of the minimum value\n",
    "    indices = df[df == min_val].stack().index.tolist()\n",
    "\n",
    "    return min_val, list(indices[-1])"
   ]
  },
  {
   "cell_type": "code",
   "execution_count": 5,
   "metadata": {},
   "outputs": [],
   "source": [
    "def cal_cluster_distance(df,df_copy,new_cluster_name):\n",
    "    cluster_missmatch_socre = []\n",
    "    for col in df_copy.columns:\n",
    "        distance = 0\n",
    "        # caclulate distance between \n",
    "        for sub_cluster in col:\n",
    "            for pairs in new_cluster_name:\n",
    "                distance += df[sub_cluster][pairs]\n",
    "        distance = distance / (len(col)*len(new_cluster_name))\n",
    "        #print(\"Distance between\",col,new_cluster_name,\"is\",distance)\n",
    "        cluster_missmatch_socre.append(distance)\n",
    "    return cluster_missmatch_socre"
   ]
  },
  {
   "cell_type": "code",
   "execution_count": 6,
   "metadata": {},
   "outputs": [],
   "source": [
    "def construct_tree(df):\n",
    "    dict_tree_newick_format = {} \n",
    "    df_copy = df.copy()\n",
    "    while len(df_copy) > 1 :\n",
    "        min_val, min_indices = min_val_index_df(df_copy)\n",
    "        #print(min_val, min_indices )\n",
    "\n",
    "        # Create new cluster  for pairs (i,j)\n",
    "        ## intialize the new cluster name u \n",
    "        new_cluster_name = min_indices[0]+min_indices[1]\n",
    "        ## calculate the distance between u_i and u_z\n",
    "        cluster_branch_distance = min_val/2\n",
    "        ## update the tree_newick_format \n",
    "        i = str(min_indices[0])\n",
    "        j = min_indices[1]\n",
    "\n",
    "        cluster_branch_distance_i = cluster_branch_distance_j = cluster_branch_distance\n",
    "\n",
    "        \n",
    "        if len(min_indices[0]) > 1:\n",
    "            i = dict_tree_newick_format[min_indices[0]][1]\n",
    "            #print(\"A\",dict_tree_newick_format[min_indices[0]][1],\"B\", dict_tree_newick_format[min_indices[0]][0])\n",
    "            cluster_branch_distance_i = cluster_branch_distance - dict_tree_newick_format[min_indices[0]][0]/2\n",
    "        if len(min_indices[1]) > 1:\n",
    "            j = dict_tree_newick_format[min_indices[1]][1]\n",
    "            cluster_branch_distance_j = cluster_branch_distance - dict_tree_newick_format[min_indices[1]][0]/2\n",
    "\n",
    "        tree_newick_format = \"(\"+i+\":\"+str(cluster_branch_distance_i)+\",\"+j+\":\"+str(cluster_branch_distance_j)+\")\"\n",
    "        dict_tree_newick_format[new_cluster_name] = [min_val,tree_newick_format]\n",
    "        #print(tree_newick_format)\n",
    "        #print(dict_tree_newick_format)\n",
    "\n",
    "        # Upadte the mismatch matrix\n",
    "        ## Delete pairs i j from the df \n",
    "        df_copy.drop(min_indices, axis=1, inplace=True)\n",
    "        df_copy.drop(min_indices, axis=0, inplace=True)\n",
    "\n",
    "        ## Compute the distance between the new cluster and the others \n",
    "        cluster_missmatch_socre = cal_cluster_distance(df,df_copy,new_cluster_name)\n",
    "        #print(cluster_missmatch_socre)\n",
    "\n",
    "        # Upadte the mismatch matrix\n",
    "        ## create new col with new cluster name and a new row \n",
    "        ### add col\n",
    "        df_copy[new_cluster_name] = cluster_missmatch_socre\n",
    "        ### add row \n",
    "        cluster_missmatch_socre.append(0)\n",
    "        df_copy.loc[new_cluster_name] = cluster_missmatch_socre\n",
    "        #print(df_copy)\n",
    "\n",
    "        #print(\"+++++++++++++++++++++++++++++++++++++++++++\")\n",
    "    return list(dict_tree_newick_format.items())[-1][1][1]"
   ]
  },
  {
   "cell_type": "code",
   "execution_count": 7,
   "metadata": {},
   "outputs": [],
   "source": [
    "def upgma_algorithm(seq_list,seq_names):\n",
    "    df = mismatche_matrix(seq_list,seq_names)\n",
    "    return construct_tree(df)"
   ]
  },
  {
   "cell_type": "markdown",
   "metadata": {},
   "source": [
    "---"
   ]
  },
  {
   "cell_type": "code",
   "execution_count": 8,
   "metadata": {},
   "outputs": [
    {
     "name": "stdout",
     "output_type": "stream",
     "text": [
      "(((E:2.0,D:2.0):0.5,(C:1.5,A:1.5):1.0):0.25,B:2.75)\n"
     ]
    }
   ],
   "source": [
    "# Sequences \n",
    "a = \"ATCGATCG\"\n",
    "b = \"GTAGACGA\"\n",
    "c = \"ACCGTACG\"\n",
    "d = \"TCAGTCAG\"\n",
    "e = \"GCCTACAG\"\n",
    "\n",
    "seq_list = [a,b,c,d,e]\n",
    "seq_names = ['A','B','C','D','E']\n",
    "tree_newick_format = upgma_algorithm(seq_list,seq_names)\n",
    "print(tree_newick_format)"
   ]
  },
  {
   "cell_type": "code",
   "execution_count": 12,
   "metadata": {},
   "outputs": [
    {
     "data": {
      "image/png": "[encoded data removed]",
      "text/plain": [
       "<Figure size 640x480 with 1 Axes>"
      ]
     },
     "metadata": {},
     "output_type": "display_data"
    }
   ],
   "source": [
    "# Read the tree from the Newick format string\n",
    "tree = Phylo.read(StringIO(tree_newick_format), \"newick\")\n",
    "\n",
    "# Plot the tree\n",
    "Phylo.draw(tree)"
   ]
  }
 ],
 "metadata": {
  "kernelspec": {
   "display_name": "Python 3",
   "language": "python",
   "name": "python3"
  },
  "language_info": {
   "codemirror_mode": {
    "name": "ipython",
    "version": 3
   },
   "file_extension": ".py",
   "mimetype": "text/x-python",
   "name": "python",
   "nbconvert_exporter": "python",
   "pygments_lexer": "ipython3",
   "version": "3.11.5"
  }
 },
 "nbformat": 4,
 "nbformat_minor": 2
}
