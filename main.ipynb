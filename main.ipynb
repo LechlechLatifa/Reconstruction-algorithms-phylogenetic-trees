{
 "cells": [
  {
   "cell_type": "code",
   "execution_count": 1,
   "metadata": {},
   "outputs": [],
   "source": [
    "import numpy as np \n",
    "import pandas as pd\n",
    "import itertools as it"
   ]
  },
  {
   "cell_type": "markdown",
   "metadata": {},
   "source": [
    "For a given tree T, we can calculate a distance between two leafs $i$ and $j$, noted as $d_{ij}(T)$"
   ]
  },
  {
   "cell_type": "code",
   "execution_count": 2,
   "metadata": {},
   "outputs": [],
   "source": [
    "# distance matrix \n",
    "\n",
    "m1 = np.array([[0,8,7,12],\n",
    "               [8,0,9,14],\n",
    "               [7,9,0,11],\n",
    "               [12,14,11,0]])\n",
    "\n",
    "m2 = np.array([[0,2,3,8,14,18],\n",
    "               [2,0,3,8,14,18],\n",
    "               [3,3,0,8,14,18],\n",
    "               [8,8,8,0,14,18],\n",
    "               [14,14,14,14,0,18],\n",
    "               [18,18,18,18,18,0]])"
   ]
  },
  {
   "cell_type": "code",
   "execution_count": 3,
   "metadata": {},
   "outputs": [],
   "source": [
    "def convert_matrix_df(matrix,columns_name=None):\n",
    "    return pd.DataFrame(matrix, columns=columns_name)"
   ]
  },
  {
   "cell_type": "code",
   "execution_count": 4,
   "metadata": {},
   "outputs": [
    {
     "data": {
      "text/html": [
       "<div>\n",
       "<style scoped>\n",
       "    .dataframe tbody tr th:only-of-type {\n",
       "        vertical-align: middle;\n",
       "    }\n",
       "\n",
       "    .dataframe tbody tr th {\n",
       "        vertical-align: top;\n",
       "    }\n",
       "\n",
       "    .dataframe thead th {\n",
       "        text-align: right;\n",
       "    }\n",
       "</style>\n",
       "<table border=\"1\" class=\"dataframe\">\n",
       "  <thead>\n",
       "    <tr style=\"text-align: right;\">\n",
       "      <th></th>\n",
       "      <th>0</th>\n",
       "      <th>1</th>\n",
       "      <th>2</th>\n",
       "      <th>3</th>\n",
       "    </tr>\n",
       "  </thead>\n",
       "  <tbody>\n",
       "    <tr>\n",
       "      <th>0</th>\n",
       "      <td>0</td>\n",
       "      <td>8</td>\n",
       "      <td>7</td>\n",
       "      <td>12</td>\n",
       "    </tr>\n",
       "    <tr>\n",
       "      <th>1</th>\n",
       "      <td>8</td>\n",
       "      <td>0</td>\n",
       "      <td>9</td>\n",
       "      <td>14</td>\n",
       "    </tr>\n",
       "    <tr>\n",
       "      <th>2</th>\n",
       "      <td>7</td>\n",
       "      <td>9</td>\n",
       "      <td>0</td>\n",
       "      <td>11</td>\n",
       "    </tr>\n",
       "    <tr>\n",
       "      <th>3</th>\n",
       "      <td>12</td>\n",
       "      <td>14</td>\n",
       "      <td>11</td>\n",
       "      <td>0</td>\n",
       "    </tr>\n",
       "  </tbody>\n",
       "</table>\n",
       "</div>"
      ],
      "text/plain": [
       "    0   1   2   3\n",
       "0   0   8   7  12\n",
       "1   8   0   9  14\n",
       "2   7   9   0  11\n",
       "3  12  14  11   0"
      ]
     },
     "execution_count": 4,
     "metadata": {},
     "output_type": "execute_result"
    }
   ],
   "source": [
    "m1_df = convert_matrix_df(m1)\n",
    "m1_df"
   ]
  },
  {
   "cell_type": "code",
   "execution_count": 5,
   "metadata": {},
   "outputs": [
    {
     "data": {
      "text/html": [
       "<div>\n",
       "<style scoped>\n",
       "    .dataframe tbody tr th:only-of-type {\n",
       "        vertical-align: middle;\n",
       "    }\n",
       "\n",
       "    .dataframe tbody tr th {\n",
       "        vertical-align: top;\n",
       "    }\n",
       "\n",
       "    .dataframe thead th {\n",
       "        text-align: right;\n",
       "    }\n",
       "</style>\n",
       "<table border=\"1\" class=\"dataframe\">\n",
       "  <thead>\n",
       "    <tr style=\"text-align: right;\">\n",
       "      <th></th>\n",
       "      <th>0</th>\n",
       "      <th>1</th>\n",
       "      <th>2</th>\n",
       "      <th>3</th>\n",
       "      <th>4</th>\n",
       "      <th>5</th>\n",
       "    </tr>\n",
       "  </thead>\n",
       "  <tbody>\n",
       "    <tr>\n",
       "      <th>0</th>\n",
       "      <td>0</td>\n",
       "      <td>2</td>\n",
       "      <td>3</td>\n",
       "      <td>8</td>\n",
       "      <td>14</td>\n",
       "      <td>18</td>\n",
       "    </tr>\n",
       "    <tr>\n",
       "      <th>1</th>\n",
       "      <td>2</td>\n",
       "      <td>0</td>\n",
       "      <td>3</td>\n",
       "      <td>8</td>\n",
       "      <td>14</td>\n",
       "      <td>18</td>\n",
       "    </tr>\n",
       "    <tr>\n",
       "      <th>2</th>\n",
       "      <td>3</td>\n",
       "      <td>3</td>\n",
       "      <td>0</td>\n",
       "      <td>8</td>\n",
       "      <td>14</td>\n",
       "      <td>18</td>\n",
       "    </tr>\n",
       "    <tr>\n",
       "      <th>3</th>\n",
       "      <td>8</td>\n",
       "      <td>8</td>\n",
       "      <td>8</td>\n",
       "      <td>0</td>\n",
       "      <td>14</td>\n",
       "      <td>18</td>\n",
       "    </tr>\n",
       "    <tr>\n",
       "      <th>4</th>\n",
       "      <td>14</td>\n",
       "      <td>14</td>\n",
       "      <td>14</td>\n",
       "      <td>14</td>\n",
       "      <td>0</td>\n",
       "      <td>18</td>\n",
       "    </tr>\n",
       "    <tr>\n",
       "      <th>5</th>\n",
       "      <td>18</td>\n",
       "      <td>18</td>\n",
       "      <td>18</td>\n",
       "      <td>18</td>\n",
       "      <td>18</td>\n",
       "      <td>0</td>\n",
       "    </tr>\n",
       "  </tbody>\n",
       "</table>\n",
       "</div>"
      ],
      "text/plain": [
       "    0   1   2   3   4   5\n",
       "0   0   2   3   8  14  18\n",
       "1   2   0   3   8  14  18\n",
       "2   3   3   0   8  14  18\n",
       "3   8   8   8   0  14  18\n",
       "4  14  14  14  14   0  18\n",
       "5  18  18  18  18  18   0"
      ]
     },
     "execution_count": 5,
     "metadata": {},
     "output_type": "execute_result"
    }
   ],
   "source": [
    "m2_df = convert_matrix_df(m2)\n",
    "m2_df"
   ]
  },
  {
   "cell_type": "markdown",
   "metadata": {},
   "source": [
    "In the context of molecular phylogenetics, an additive matrix is a technique for displaying the evolutionary distances between sequences. This matrix shows the evolutionary changes that have taken place between various biological sequences, including sequences of DNA, RNA, and proteins.\n",
    "Based on:\n",
    "* Buneman’s 4-point condition Theorem:  M is additive if and only if the 4-point condition is satisfied\n",
    "* 3-point condition Theorem: M is ultrametric if and only if the 3-point condition is satisfied"
   ]
  },
  {
   "cell_type": "code",
   "execution_count": 6,
   "metadata": {},
   "outputs": [],
   "source": [
    "def is_additive(matrix):    \n",
    "    comb = it.combinations(range(len(matrix)),4)\n",
    "    for groupe in comb:\n",
    "        i,j,k,l=groupe\n",
    "        if not (matrix[i,j]+matrix[k,l]<=max(matrix[i,k]+matrix[j,l],matrix[i,l]+matrix[j,k])):\n",
    "            return False\n",
    "    return True\n",
    "\n",
    "def is_ultrametrix(matrix):\n",
    "    comb=it.combinations(range(len(matrix)),3)\n",
    "    for groupe in comb:\n",
    "        i,j,k=groupe\n",
    "        if not(matrix[i,k] <= max(matrix[i,j], matrix[j,k])):\n",
    "            return False\n",
    "    return True"
   ]
  },
  {
   "cell_type": "code",
   "execution_count": 7,
   "metadata": {},
   "outputs": [
    {
     "name": "stdout",
     "output_type": "stream",
     "text": [
      "is M1 additive True\n",
      "is M2 ultrametrix True\n"
     ]
    }
   ],
   "source": [
    "print(\"is M1 additive\", is_additive(m1))\n",
    "print(\"is M2 ultrametrix\", is_ultrametrix(m2))"
   ]
  },
  {
   "cell_type": "code",
   "execution_count": 8,
   "metadata": {},
   "outputs": [],
   "source": [
    "def cluster(df_matrix,i):\n",
    "    return sum(df_matrix.iloc[:, i])\n",
    "\n",
    "def all_cluster(df_matrix):\n",
    "    for column in df_matrix.columns:\n",
    "        print(\"Number of cluster in \",column,\"is\",cluster(df_matrix,column)) "
   ]
  },
  {
   "cell_type": "code",
   "execution_count": 9,
   "metadata": {},
   "outputs": [
    {
     "name": "stdout",
     "output_type": "stream",
     "text": [
      "Number of cluster in  0 is 27\n",
      "Number of cluster in  1 is 31\n",
      "Number of cluster in  2 is 27\n",
      "Number of cluster in  3 is 37\n"
     ]
    }
   ],
   "source": [
    "all_cluster(m1_df)"
   ]
  },
  {
   "cell_type": "code",
   "execution_count": 10,
   "metadata": {},
   "outputs": [
    {
     "name": "stdout",
     "output_type": "stream",
     "text": [
      "Number of cluster in  0 is 45\n",
      "Number of cluster in  1 is 45\n",
      "Number of cluster in  2 is 46\n",
      "Number of cluster in  3 is 56\n",
      "Number of cluster in  4 is 74\n",
      "Number of cluster in  5 is 90\n"
     ]
    }
   ],
   "source": [
    "all_cluster(m2_df)"
   ]
  },
  {
   "cell_type": "markdown",
   "metadata": {},
   "source": [
    "---"
   ]
  },
  {
   "cell_type": "markdown",
   "metadata": {},
   "source": [
    "The Newick format is a technique for representing hierarchical tree structures. It is frequently used in computer science to depict hierarchical connections and in biology to describe phylogenetic trees, which show the evolutionary links between species."
   ]
  },
  {
   "cell_type": "markdown",
   "metadata": {},
   "source": [
    "UPGMA steps: \n",
    "1. Align & name \n",
    "2. Compare sequences using pairwise sequence alignment \n",
    "3. Count the mismatches and records them in the mismatche matrix \n",
    "4. Create a new cluster $u$ that joins the Closest Pair $(i,j)$ with the smallest distance $d_{i,j}$\n",
    "5. Update the MatriX replace the rows and columns that correspond to the two clustered items with a new row and column. Based on the average distance from the newly.\n",
    "6. Repeat step 4 and 5 until we get one cluster  \n"
   ]
  },
  {
   "cell_type": "code",
   "execution_count": 11,
   "metadata": {},
   "outputs": [],
   "source": [
    "# Sequences \n",
    "a = \"ATCGATCG\"\n",
    "b = \"GTAGACGA\"\n",
    "c = \"ACCGTACG\"\n",
    "d = \"TCAGTCAG\"\n",
    "e = \"GCCTACAG\""
   ]
  },
  {
   "cell_type": "code",
   "execution_count": 12,
   "metadata": {},
   "outputs": [],
   "source": [
    "# Compute pairwise sequence alignment\n",
    "# Both sequences must possess identical lengths.\n",
    "def pairwise_sequence_alignment(seq_1,seq_2):\n",
    "    count_missmatch = 0\n",
    "    for i in range(len(seq_1)):\n",
    "        if seq_1[i] != seq_2[i]:\n",
    "            count_missmatch += 1\n",
    "    return count_missmatch"
   ]
  },
  {
   "cell_type": "code",
   "execution_count": 13,
   "metadata": {},
   "outputs": [],
   "source": [
    "# Count the mismatches and records them in the mismatche matrix\n",
    "# min of mismatche_matrix is added in this function since we will use it later \n",
    "def  mismatche_matrix(seq_list):\n",
    "    n = len(seq_list)\n",
    "    mismatch_m = np.zeros((n,n))\n",
    "    min = np.inf\n",
    "\n",
    "    for i in range(n):\n",
    "        sub_seq_list = seq_list[i+1:]\n",
    "        for j in range(len(sub_seq_list)):\n",
    "            matrix_j = j+i+1\n",
    "            pairwise_seq = pairwise_sequence_alignment(seq_list[i],sub_seq_list[j])\n",
    "            mismatch_m[i][matrix_j] = mismatch_m[matrix_j][i] = pairwise_seq\n",
    "            if pairwise_seq > 0 and pairwise_seq < min:\n",
    "                min = pairwise_seq\n",
    "                min_index = [i,matrix_j]\n",
    "\n",
    "    return mismatch_m, min, min_index"
   ]
  },
  {
   "cell_type": "code",
   "execution_count": 14,
   "metadata": {},
   "outputs": [
    {
     "name": "stdout",
     "output_type": "stream",
     "text": [
      "     A    B    C    D    E\n",
      "A  0.0  5.0  3.0  6.0  5.0\n",
      "B  5.0  0.0  7.0  5.0  5.0\n",
      "C  3.0  7.0  0.0  4.0  5.0\n",
      "D  6.0  5.0  4.0  0.0  4.0\n",
      "E  5.0  5.0  5.0  4.0  0.0\n",
      "The closest pairs are A C with mismatch score equal to  3.0\n",
      "(A:1.5,C:1.5)\n"
     ]
    }
   ],
   "source": [
    "seq_list = [a,b,c,d,e]\n",
    "seq_names = ['A','B','C','D','E']\n",
    "tree_newick_format = \"\"\n",
    "mismatch_m,min_value, min_index = mismatche_matrix(seq_list)\n",
    "mismatch_matrix_df = pd.DataFrame(data=mismatch_m, columns=seq_names ,index=seq_names)\n",
    "print(mismatch_matrix_df)\n",
    "i_min = min_index[0]\n",
    "j_min = min_index[1]\n",
    "print(\"The closest pairs are\",seq_names[i_min],seq_names[j_min],\"with mismatch score equal to \", mismatch_m[i_min,j_min])\n",
    "min_len = min_value / 2\n",
    "tree_newick_format = \"(\"+str(seq_names[i_min])+\":\"+str(min_len)+\",\"+str(seq_names[j_min])+\":\"+str(min_len)+\")\"\n",
    "print(tree_newick_format)"
   ]
  },
  {
   "cell_type": "code",
   "execution_count": 15,
   "metadata": {},
   "outputs": [
    {
     "data": {
      "text/plain": [
       "array([[0., 5., 3., 6., 5.],\n",
       "       [5., 0., 7., 5., 5.],\n",
       "       [3., 7., 0., 4., 5.],\n",
       "       [6., 5., 4., 0., 4.],\n",
       "       [5., 5., 5., 4., 0.]])"
      ]
     },
     "execution_count": 15,
     "metadata": {},
     "output_type": "execute_result"
    }
   ],
   "source": [
    "mismatch_m"
   ]
  },
  {
   "cell_type": "code",
   "execution_count": 16,
   "metadata": {},
   "outputs": [
    {
     "data": {
      "text/html": [
       "<div>\n",
       "<style scoped>\n",
       "    .dataframe tbody tr th:only-of-type {\n",
       "        vertical-align: middle;\n",
       "    }\n",
       "\n",
       "    .dataframe tbody tr th {\n",
       "        vertical-align: top;\n",
       "    }\n",
       "\n",
       "    .dataframe thead th {\n",
       "        text-align: right;\n",
       "    }\n",
       "</style>\n",
       "<table border=\"1\" class=\"dataframe\">\n",
       "  <thead>\n",
       "    <tr style=\"text-align: right;\">\n",
       "      <th></th>\n",
       "      <th>A</th>\n",
       "      <th>B</th>\n",
       "      <th>C</th>\n",
       "      <th>D</th>\n",
       "      <th>E</th>\n",
       "    </tr>\n",
       "  </thead>\n",
       "  <tbody>\n",
       "    <tr>\n",
       "      <th>A</th>\n",
       "      <td>0.0</td>\n",
       "      <td>5.0</td>\n",
       "      <td>3.0</td>\n",
       "      <td>6.0</td>\n",
       "      <td>5.0</td>\n",
       "    </tr>\n",
       "    <tr>\n",
       "      <th>B</th>\n",
       "      <td>5.0</td>\n",
       "      <td>0.0</td>\n",
       "      <td>7.0</td>\n",
       "      <td>5.0</td>\n",
       "      <td>5.0</td>\n",
       "    </tr>\n",
       "    <tr>\n",
       "      <th>C</th>\n",
       "      <td>3.0</td>\n",
       "      <td>7.0</td>\n",
       "      <td>0.0</td>\n",
       "      <td>4.0</td>\n",
       "      <td>5.0</td>\n",
       "    </tr>\n",
       "    <tr>\n",
       "      <th>D</th>\n",
       "      <td>6.0</td>\n",
       "      <td>5.0</td>\n",
       "      <td>4.0</td>\n",
       "      <td>0.0</td>\n",
       "      <td>4.0</td>\n",
       "    </tr>\n",
       "    <tr>\n",
       "      <th>E</th>\n",
       "      <td>5.0</td>\n",
       "      <td>5.0</td>\n",
       "      <td>5.0</td>\n",
       "      <td>4.0</td>\n",
       "      <td>0.0</td>\n",
       "    </tr>\n",
       "  </tbody>\n",
       "</table>\n",
       "</div>"
      ],
      "text/plain": [
       "     A    B    C    D    E\n",
       "A  0.0  5.0  3.0  6.0  5.0\n",
       "B  5.0  0.0  7.0  5.0  5.0\n",
       "C  3.0  7.0  0.0  4.0  5.0\n",
       "D  6.0  5.0  4.0  0.0  4.0\n",
       "E  5.0  5.0  5.0  4.0  0.0"
      ]
     },
     "execution_count": 16,
     "metadata": {},
     "output_type": "execute_result"
    }
   ],
   "source": [
    "# compute the new \n",
    "mismatch_matrix_df_t = mismatch_matrix_df.copy()\n",
    "mismatch_matrix_df_t"
   ]
  },
  {
   "cell_type": "code",
   "execution_count": 17,
   "metadata": {},
   "outputs": [
    {
     "name": "stdout",
     "output_type": "stream",
     "text": [
      "AC\n"
     ]
    }
   ],
   "source": [
    "# add new cluster \n",
    "i_min, j_min = min_index[0], min_index[1]\n",
    "cluster_i = str(seq_names[i_min])\n",
    "cluster_j = str(seq_names[j_min])\n",
    "new_cluster_name = cluster_i+cluster_j\n",
    "print(new_cluster_name)"
   ]
  },
  {
   "cell_type": "code",
   "execution_count": 18,
   "metadata": {},
   "outputs": [
    {
     "data": {
      "text/plain": [
       "[6.0, 5.0, 5.0]"
      ]
     },
     "execution_count": 18,
     "metadata": {},
     "output_type": "execute_result"
    }
   ],
   "source": [
    "new_dist = []\n",
    "for col in mismatch_matrix_df_t.columns: \n",
    "    if col is not cluster_i and col is not cluster_j :\n",
    "        new_dist.append((mismatch_matrix_df_t[col][cluster_i]+mismatch_matrix_df_t[col][cluster_j]) / 2)\n",
    "new_dist"
   ]
  },
  {
   "cell_type": "code",
   "execution_count": 19,
   "metadata": {},
   "outputs": [
    {
     "data": {
      "text/html": [
       "<div>\n",
       "<style scoped>\n",
       "    .dataframe tbody tr th:only-of-type {\n",
       "        vertical-align: middle;\n",
       "    }\n",
       "\n",
       "    .dataframe tbody tr th {\n",
       "        vertical-align: top;\n",
       "    }\n",
       "\n",
       "    .dataframe thead th {\n",
       "        text-align: right;\n",
       "    }\n",
       "</style>\n",
       "<table border=\"1\" class=\"dataframe\">\n",
       "  <thead>\n",
       "    <tr style=\"text-align: right;\">\n",
       "      <th></th>\n",
       "      <th>B</th>\n",
       "      <th>D</th>\n",
       "      <th>E</th>\n",
       "    </tr>\n",
       "  </thead>\n",
       "  <tbody>\n",
       "    <tr>\n",
       "      <th>B</th>\n",
       "      <td>0.0</td>\n",
       "      <td>5.0</td>\n",
       "      <td>5.0</td>\n",
       "    </tr>\n",
       "    <tr>\n",
       "      <th>D</th>\n",
       "      <td>5.0</td>\n",
       "      <td>0.0</td>\n",
       "      <td>4.0</td>\n",
       "    </tr>\n",
       "    <tr>\n",
       "      <th>E</th>\n",
       "      <td>5.0</td>\n",
       "      <td>4.0</td>\n",
       "      <td>0.0</td>\n",
       "    </tr>\n",
       "  </tbody>\n",
       "</table>\n",
       "</div>"
      ],
      "text/plain": [
       "     B    D    E\n",
       "B  0.0  5.0  5.0\n",
       "D  5.0  0.0  4.0\n",
       "E  5.0  4.0  0.0"
      ]
     },
     "execution_count": 19,
     "metadata": {},
     "output_type": "execute_result"
    }
   ],
   "source": [
    "# delete \n",
    "mismatch_matrix_df_t.drop(mismatch_matrix_df_t.columns[min_index], axis=1, inplace=True)\n",
    "mismatch_matrix_df_t.drop(mismatch_matrix_df_t.index[min_index], axis=0, inplace=True)\n",
    "mismatch_matrix_df_t"
   ]
  },
  {
   "cell_type": "code",
   "execution_count": 20,
   "metadata": {},
   "outputs": [
    {
     "data": {
      "text/html": [
       "<div>\n",
       "<style scoped>\n",
       "    .dataframe tbody tr th:only-of-type {\n",
       "        vertical-align: middle;\n",
       "    }\n",
       "\n",
       "    .dataframe tbody tr th {\n",
       "        vertical-align: top;\n",
       "    }\n",
       "\n",
       "    .dataframe thead th {\n",
       "        text-align: right;\n",
       "    }\n",
       "</style>\n",
       "<table border=\"1\" class=\"dataframe\">\n",
       "  <thead>\n",
       "    <tr style=\"text-align: right;\">\n",
       "      <th></th>\n",
       "      <th>B</th>\n",
       "      <th>D</th>\n",
       "      <th>E</th>\n",
       "      <th>AC</th>\n",
       "    </tr>\n",
       "  </thead>\n",
       "  <tbody>\n",
       "    <tr>\n",
       "      <th>B</th>\n",
       "      <td>0.0</td>\n",
       "      <td>5.0</td>\n",
       "      <td>5.0</td>\n",
       "      <td>6.0</td>\n",
       "    </tr>\n",
       "    <tr>\n",
       "      <th>D</th>\n",
       "      <td>5.0</td>\n",
       "      <td>0.0</td>\n",
       "      <td>4.0</td>\n",
       "      <td>5.0</td>\n",
       "    </tr>\n",
       "    <tr>\n",
       "      <th>E</th>\n",
       "      <td>5.0</td>\n",
       "      <td>4.0</td>\n",
       "      <td>0.0</td>\n",
       "      <td>5.0</td>\n",
       "    </tr>\n",
       "  </tbody>\n",
       "</table>\n",
       "</div>"
      ],
      "text/plain": [
       "     B    D    E   AC\n",
       "B  0.0  5.0  5.0  6.0\n",
       "D  5.0  0.0  4.0  5.0\n",
       "E  5.0  4.0  0.0  5.0"
      ]
     },
     "execution_count": 20,
     "metadata": {},
     "output_type": "execute_result"
    }
   ],
   "source": [
    "mismatch_matrix_df_t[new_cluster_name] = new_dist\n",
    "mismatch_matrix_df_t"
   ]
  },
  {
   "cell_type": "code",
   "execution_count": null,
   "metadata": {},
   "outputs": [],
   "source": []
  },
  {
   "cell_type": "code",
   "execution_count": 21,
   "metadata": {},
   "outputs": [
    {
     "data": {
      "text/html": [
       "<div>\n",
       "<style scoped>\n",
       "    .dataframe tbody tr th:only-of-type {\n",
       "        vertical-align: middle;\n",
       "    }\n",
       "\n",
       "    .dataframe tbody tr th {\n",
       "        vertical-align: top;\n",
       "    }\n",
       "\n",
       "    .dataframe thead th {\n",
       "        text-align: right;\n",
       "    }\n",
       "</style>\n",
       "<table border=\"1\" class=\"dataframe\">\n",
       "  <thead>\n",
       "    <tr style=\"text-align: right;\">\n",
       "      <th></th>\n",
       "      <th>B</th>\n",
       "      <th>D</th>\n",
       "      <th>E</th>\n",
       "      <th>AC</th>\n",
       "    </tr>\n",
       "  </thead>\n",
       "  <tbody>\n",
       "    <tr>\n",
       "      <th>B</th>\n",
       "      <td>0.0</td>\n",
       "      <td>5.0</td>\n",
       "      <td>5.0</td>\n",
       "      <td>6.0</td>\n",
       "    </tr>\n",
       "    <tr>\n",
       "      <th>D</th>\n",
       "      <td>5.0</td>\n",
       "      <td>0.0</td>\n",
       "      <td>4.0</td>\n",
       "      <td>5.0</td>\n",
       "    </tr>\n",
       "    <tr>\n",
       "      <th>E</th>\n",
       "      <td>5.0</td>\n",
       "      <td>4.0</td>\n",
       "      <td>0.0</td>\n",
       "      <td>5.0</td>\n",
       "    </tr>\n",
       "    <tr>\n",
       "      <th>AC</th>\n",
       "      <td>6.0</td>\n",
       "      <td>5.0</td>\n",
       "      <td>5.0</td>\n",
       "      <td>0.0</td>\n",
       "    </tr>\n",
       "  </tbody>\n",
       "</table>\n",
       "</div>"
      ],
      "text/plain": [
       "      B    D    E   AC\n",
       "B   0.0  5.0  5.0  6.0\n",
       "D   5.0  0.0  4.0  5.0\n",
       "E   5.0  4.0  0.0  5.0\n",
       "AC  6.0  5.0  5.0  0.0"
      ]
     },
     "execution_count": 21,
     "metadata": {},
     "output_type": "execute_result"
    }
   ],
   "source": [
    "# add row \n",
    "new_dist.append(0)\n",
    "mismatch_matrix_df_t.loc[new_cluster_name] = new_dist\n",
    "mismatch_matrix_df_t"
   ]
  },
  {
   "cell_type": "markdown",
   "metadata": {},
   "source": [
    "----"
   ]
  },
  {
   "cell_type": "code",
   "execution_count": 24,
   "metadata": {},
   "outputs": [
    {
     "ename": "SyntaxError",
     "evalue": "invalid syntax (2618018363.py, line 12)",
     "output_type": "error",
     "traceback": [
      "\u001b[1;36m  Cell \u001b[1;32mIn[24], line 12\u001b[1;36m\u001b[0m\n\u001b[1;33m    for in :\u001b[0m\n\u001b[1;37m        ^\u001b[0m\n\u001b[1;31mSyntaxError\u001b[0m\u001b[1;31m:\u001b[0m invalid syntax\n"
     ]
    }
   ],
   "source": [
    "# update mismatch matrix\n",
    "def update_mismatch_matrix(mismatch_matrix_df,min,min_index):\n",
    "    # new cluster name \n",
    "    # delete \n",
    "    mismatch_matrix_df.drop(mismatch_matrix_df.columns[min_index], axis=1, inplace=True)\n",
    "    mismatch_matrix_df.drop(min_index, axis=0, inplace=True)\n",
    "    \n",
    "    # add new cluster \n",
    "    i_min, j_min = min_index[0], min_index[1]\n",
    "    new_cluster_name = str(seq_names[i_min])+str(seq_names[j_min])\n",
    "    distance_cluster = []\n",
    "    for in : \n",
    "     \n",
    "\n",
    "    mismatch_matrix_df[new_cluster_name] = []\n",
    "   \n"
   ]
  },
  {
   "cell_type": "code",
   "execution_count": null,
   "metadata": {},
   "outputs": [],
   "source": [
    "if len(mismatch_matrix_df) == 2:\n",
    "    # joint directly the two clusters \n",
    "    pass\n",
    "else: \n",
    "    # Find the closest pairs \n",
    "    # update the mismatch \n",
    "        \n",
    "    pass"
   ]
  }
 ],
 "metadata": {
  "kernelspec": {
   "display_name": "Python 3",
   "language": "python",
   "name": "python3"
  },
  "language_info": {
   "codemirror_mode": {
    "name": "ipython",
    "version": 3
   },
   "file_extension": ".py",
   "mimetype": "text/x-python",
   "name": "python",
   "nbconvert_exporter": "python",
   "pygments_lexer": "ipython3",
   "version": "3.11.5"
  }
 },
 "nbformat": 4,
 "nbformat_minor": 2
}
