{
 "cells": [
  {
   "cell_type": "code",
   "execution_count": 1,
   "metadata": {},
   "outputs": [],
   "source": [
    "import numpy as np \n",
    "import pandas as pd\n",
    "import itertools as it\n"
   ]
  },
  {
   "cell_type": "markdown",
   "metadata": {},
   "source": [
    "For a given tree T, we can calculate a distance between two leafs $i$ and $j$, noted as $d_{ij}(T)$"
   ]
  },
  {
   "cell_type": "code",
   "execution_count": 2,
   "metadata": {},
   "outputs": [],
   "source": [
    "# distance matrix \n",
    "\n",
    "m1 = np.array([[0,8,7,12],\n",
    "               [8,0,9,14],\n",
    "               [7,9,0,11],\n",
    "               [12,14,11,0]])\n",
    "\n",
    "m2 = np.array([[0,2,3,8,14,18],\n",
    "               [2,0,3,8,14,18],\n",
    "               [3,3,0,8,14,18],\n",
    "               [8,8,8,0,14,18],\n",
    "               [14,14,14,14,0,18],\n",
    "               [18,18,18,18,18,0]])"
   ]
  },
  {
   "cell_type": "code",
   "execution_count": 3,
   "metadata": {},
   "outputs": [],
   "source": [
    "def convert_matrix_df(matrix,columns_name=None):\n",
    "    return pd.DataFrame(matrix, columns=columns_name)"
   ]
  },
  {
   "cell_type": "code",
   "execution_count": 4,
   "metadata": {},
   "outputs": [
    {
     "data": {
      "text/html": [
       "<div>\n",
       "<style scoped>\n",
       "    .dataframe tbody tr th:only-of-type {\n",
       "        vertical-align: middle;\n",
       "    }\n",
       "\n",
       "    .dataframe tbody tr th {\n",
       "        vertical-align: top;\n",
       "    }\n",
       "\n",
       "    .dataframe thead th {\n",
       "        text-align: right;\n",
       "    }\n",
       "</style>\n",
       "<table border=\"1\" class=\"dataframe\">\n",
       "  <thead>\n",
       "    <tr style=\"text-align: right;\">\n",
       "      <th></th>\n",
       "      <th>0</th>\n",
       "      <th>1</th>\n",
       "      <th>2</th>\n",
       "      <th>3</th>\n",
       "    </tr>\n",
       "  </thead>\n",
       "  <tbody>\n",
       "    <tr>\n",
       "      <th>0</th>\n",
       "      <td>0</td>\n",
       "      <td>8</td>\n",
       "      <td>7</td>\n",
       "      <td>12</td>\n",
       "    </tr>\n",
       "    <tr>\n",
       "      <th>1</th>\n",
       "      <td>8</td>\n",
       "      <td>0</td>\n",
       "      <td>9</td>\n",
       "      <td>14</td>\n",
       "    </tr>\n",
       "    <tr>\n",
       "      <th>2</th>\n",
       "      <td>7</td>\n",
       "      <td>9</td>\n",
       "      <td>0</td>\n",
       "      <td>11</td>\n",
       "    </tr>\n",
       "    <tr>\n",
       "      <th>3</th>\n",
       "      <td>12</td>\n",
       "      <td>14</td>\n",
       "      <td>11</td>\n",
       "      <td>0</td>\n",
       "    </tr>\n",
       "  </tbody>\n",
       "</table>\n",
       "</div>"
      ],
      "text/plain": [
       "    0   1   2   3\n",
       "0   0   8   7  12\n",
       "1   8   0   9  14\n",
       "2   7   9   0  11\n",
       "3  12  14  11   0"
      ]
     },
     "execution_count": 4,
     "metadata": {},
     "output_type": "execute_result"
    }
   ],
   "source": [
    "m1_df = convert_matrix_df(m1)\n",
    "m1_df"
   ]
  },
  {
   "cell_type": "code",
   "execution_count": 5,
   "metadata": {},
   "outputs": [
    {
     "data": {
      "text/html": [
       "<div>\n",
       "<style scoped>\n",
       "    .dataframe tbody tr th:only-of-type {\n",
       "        vertical-align: middle;\n",
       "    }\n",
       "\n",
       "    .dataframe tbody tr th {\n",
       "        vertical-align: top;\n",
       "    }\n",
       "\n",
       "    .dataframe thead th {\n",
       "        text-align: right;\n",
       "    }\n",
       "</style>\n",
       "<table border=\"1\" class=\"dataframe\">\n",
       "  <thead>\n",
       "    <tr style=\"text-align: right;\">\n",
       "      <th></th>\n",
       "      <th>0</th>\n",
       "      <th>1</th>\n",
       "      <th>2</th>\n",
       "      <th>3</th>\n",
       "      <th>4</th>\n",
       "      <th>5</th>\n",
       "    </tr>\n",
       "  </thead>\n",
       "  <tbody>\n",
       "    <tr>\n",
       "      <th>0</th>\n",
       "      <td>0</td>\n",
       "      <td>2</td>\n",
       "      <td>3</td>\n",
       "      <td>8</td>\n",
       "      <td>14</td>\n",
       "      <td>18</td>\n",
       "    </tr>\n",
       "    <tr>\n",
       "      <th>1</th>\n",
       "      <td>2</td>\n",
       "      <td>0</td>\n",
       "      <td>3</td>\n",
       "      <td>8</td>\n",
       "      <td>14</td>\n",
       "      <td>18</td>\n",
       "    </tr>\n",
       "    <tr>\n",
       "      <th>2</th>\n",
       "      <td>3</td>\n",
       "      <td>3</td>\n",
       "      <td>0</td>\n",
       "      <td>8</td>\n",
       "      <td>14</td>\n",
       "      <td>18</td>\n",
       "    </tr>\n",
       "    <tr>\n",
       "      <th>3</th>\n",
       "      <td>8</td>\n",
       "      <td>8</td>\n",
       "      <td>8</td>\n",
       "      <td>0</td>\n",
       "      <td>14</td>\n",
       "      <td>18</td>\n",
       "    </tr>\n",
       "    <tr>\n",
       "      <th>4</th>\n",
       "      <td>14</td>\n",
       "      <td>14</td>\n",
       "      <td>14</td>\n",
       "      <td>14</td>\n",
       "      <td>0</td>\n",
       "      <td>18</td>\n",
       "    </tr>\n",
       "    <tr>\n",
       "      <th>5</th>\n",
       "      <td>18</td>\n",
       "      <td>18</td>\n",
       "      <td>18</td>\n",
       "      <td>18</td>\n",
       "      <td>18</td>\n",
       "      <td>0</td>\n",
       "    </tr>\n",
       "  </tbody>\n",
       "</table>\n",
       "</div>"
      ],
      "text/plain": [
       "    0   1   2   3   4   5\n",
       "0   0   2   3   8  14  18\n",
       "1   2   0   3   8  14  18\n",
       "2   3   3   0   8  14  18\n",
       "3   8   8   8   0  14  18\n",
       "4  14  14  14  14   0  18\n",
       "5  18  18  18  18  18   0"
      ]
     },
     "execution_count": 5,
     "metadata": {},
     "output_type": "execute_result"
    }
   ],
   "source": [
    "m2_df = convert_matrix_df(m2)\n",
    "m2_df"
   ]
  },
  {
   "cell_type": "markdown",
   "metadata": {},
   "source": [
    "In the context of molecular phylogenetics, an additive matrix is a technique for displaying the evolutionary distances between sequences. This matrix shows the evolutionary changes that have taken place between various biological sequences, including sequences of DNA, RNA, and proteins.\n",
    "Based on:\n",
    "* Buneman’s 4-point condition Theorem:  M is additive if and only if the 4-point condition is satisfied\n",
    "* 3-point condition Theorem: M is ultrametric if and only if the 3-point condition is satisfied"
   ]
  },
  {
   "cell_type": "code",
   "execution_count": 6,
   "metadata": {},
   "outputs": [],
   "source": [
    "def is_additive(matrix):    \n",
    "    comb = it.combinations(range(len(matrix)),4)\n",
    "    for groupe in comb:\n",
    "        i,j,k,l=groupe\n",
    "        if not (matrix[i,j]+matrix[k,l]<=max(matrix[i,k]+matrix[j,l],matrix[i,l]+matrix[j,k])):\n",
    "            return False\n",
    "    return True\n",
    "\n",
    "def is_ultrametrix(matrix):\n",
    "    comb=it.combinations(range(len(matrix)),3)\n",
    "    for groupe in comb:\n",
    "        i,j,k=groupe\n",
    "        if not(matrix[i,k] <= max(matrix[i,j], matrix[j,k])):\n",
    "            return False\n",
    "    return True"
   ]
  },
  {
   "cell_type": "code",
   "execution_count": 7,
   "metadata": {},
   "outputs": [
    {
     "name": "stdout",
     "output_type": "stream",
     "text": [
      "is M1 additive True\n",
      "is M2 ultrametrix True\n"
     ]
    }
   ],
   "source": [
    "print(\"is M1 additive\", is_additive(m1))\n",
    "print(\"is M2 ultrametrix\", is_ultrametrix(m2))"
   ]
  },
  {
   "cell_type": "code",
   "execution_count": 8,
   "metadata": {},
   "outputs": [],
   "source": [
    "def cluster(df_matrix,i):\n",
    "    return sum(df_matrix.iloc[:, i])\n",
    "\n",
    "def all_cluster(df_matrix):\n",
    "    for column in df_matrix.columns:\n",
    "        print(\"Number of cluster in \",column,\"is\",cluster(df_matrix,column)) "
   ]
  },
  {
   "cell_type": "code",
   "execution_count": 9,
   "metadata": {},
   "outputs": [
    {
     "name": "stdout",
     "output_type": "stream",
     "text": [
      "Number of cluster in  0 is 27\n",
      "Number of cluster in  1 is 31\n",
      "Number of cluster in  2 is 27\n",
      "Number of cluster in  3 is 37\n"
     ]
    }
   ],
   "source": [
    "all_cluster(m1_df)"
   ]
  },
  {
   "cell_type": "code",
   "execution_count": 10,
   "metadata": {},
   "outputs": [
    {
     "name": "stdout",
     "output_type": "stream",
     "text": [
      "Number of cluster in  0 is 45\n",
      "Number of cluster in  1 is 45\n",
      "Number of cluster in  2 is 46\n",
      "Number of cluster in  3 is 56\n",
      "Number of cluster in  4 is 74\n",
      "Number of cluster in  5 is 90\n"
     ]
    }
   ],
   "source": [
    "all_cluster(m2_df)"
   ]
  },
  {
   "cell_type": "markdown",
   "metadata": {},
   "source": [
    "---"
   ]
  },
  {
   "cell_type": "markdown",
   "metadata": {},
   "source": [
    "The Newick format is a technique for representing hierarchical tree structures. It is frequently used in computer science to depict hierarchical connections and in biology to describe phylogenetic trees, which show the evolutionary links between species."
   ]
  },
  {
   "cell_type": "markdown",
   "metadata": {},
   "source": [
    "UPGMA steps: \n",
    "1. Align & name \n",
    "2. Compare sequences using pairwise sequence alignment \n",
    "3. Count the mismatches and records them in the mismatche matrix \n",
    "4. Create a new cluster $u$ that joins the Closest Pair $(i,j)$ with the smallest distance $d_{i,j}$\n",
    "5. Update the MatriX replace the rows and columns that correspond to the two clustered items with a new row and column. Based on the average distance from the newly.\n",
    "6. Repeat step 4 and 5 until we get one cluster  \n"
   ]
  },
  {
   "cell_type": "code",
   "execution_count": null,
   "metadata": {},
   "outputs": [],
   "source": []
  }
 ],
 "metadata": {
  "kernelspec": {
   "display_name": "Python 3",
   "language": "python",
   "name": "python3"
  },
  "language_info": {
   "codemirror_mode": {
    "name": "ipython",
    "version": 3
   },
   "file_extension": ".py",
   "mimetype": "text/x-python",
   "name": "python",
   "nbconvert_exporter": "python",
   "pygments_lexer": "ipython3",
   "version": "3.11.5"
  }
 },
 "nbformat": 4,
 "nbformat_minor": 2
}
