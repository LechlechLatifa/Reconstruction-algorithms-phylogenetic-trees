{
 "cells": [
  {
   "cell_type": "code",
   "execution_count": 1,
   "metadata": {},
   "outputs": [],
   "source": [
    "import numpy as np \n",
    "import pandas as pd\n",
    "import itertools as it"
   ]
  },
  {
   "cell_type": "markdown",
   "metadata": {},
   "source": [
    "For a given tree T, we can calculate a distance between two leafs $i$ and $j$, noted as $d_{ij}(T)$"
   ]
  },
  {
   "cell_type": "code",
   "execution_count": 2,
   "metadata": {},
   "outputs": [],
   "source": [
    "# distance matrix \n",
    "\n",
    "m1 = np.array([[0,8,7,12],\n",
    "               [8,0,9,14],\n",
    "               [7,9,0,11],\n",
    "               [12,14,11,0]])\n",
    "\n",
    "m2 = np.array([[0,2,3,8,14,18],\n",
    "               [2,0,3,8,14,18],\n",
    "               [3,3,0,8,14,18],\n",
    "               [8,8,8,0,14,18],\n",
    "               [14,14,14,14,0,18],\n",
    "               [18,18,18,18,18,0]])"
   ]
  },
  {
   "cell_type": "code",
   "execution_count": 3,
   "metadata": {},
   "outputs": [],
   "source": [
    "def convert_matrix_df(matrix,columns_name=None):\n",
    "    return pd.DataFrame(matrix, columns=columns_name)"
   ]
  },
  {
   "cell_type": "code",
   "execution_count": 4,
   "metadata": {},
   "outputs": [
    {
     "data": {
      "text/html": [
       "<div>\n",
       "<style scoped>\n",
       "    .dataframe tbody tr th:only-of-type {\n",
       "        vertical-align: middle;\n",
       "    }\n",
       "\n",
       "    .dataframe tbody tr th {\n",
       "        vertical-align: top;\n",
       "    }\n",
       "\n",
       "    .dataframe thead th {\n",
       "        text-align: right;\n",
       "    }\n",
       "</style>\n",
       "<table border=\"1\" class=\"dataframe\">\n",
       "  <thead>\n",
       "    <tr style=\"text-align: right;\">\n",
       "      <th></th>\n",
       "      <th>0</th>\n",
       "      <th>1</th>\n",
       "      <th>2</th>\n",
       "      <th>3</th>\n",
       "    </tr>\n",
       "  </thead>\n",
       "  <tbody>\n",
       "    <tr>\n",
       "      <th>0</th>\n",
       "      <td>0</td>\n",
       "      <td>8</td>\n",
       "      <td>7</td>\n",
       "      <td>12</td>\n",
       "    </tr>\n",
       "    <tr>\n",
       "      <th>1</th>\n",
       "      <td>8</td>\n",
       "      <td>0</td>\n",
       "      <td>9</td>\n",
       "      <td>14</td>\n",
       "    </tr>\n",
       "    <tr>\n",
       "      <th>2</th>\n",
       "      <td>7</td>\n",
       "      <td>9</td>\n",
       "      <td>0</td>\n",
       "      <td>11</td>\n",
       "    </tr>\n",
       "    <tr>\n",
       "      <th>3</th>\n",
       "      <td>12</td>\n",
       "      <td>14</td>\n",
       "      <td>11</td>\n",
       "      <td>0</td>\n",
       "    </tr>\n",
       "  </tbody>\n",
       "</table>\n",
       "</div>"
      ],
      "text/plain": [
       "    0   1   2   3\n",
       "0   0   8   7  12\n",
       "1   8   0   9  14\n",
       "2   7   9   0  11\n",
       "3  12  14  11   0"
      ]
     },
     "execution_count": 4,
     "metadata": {},
     "output_type": "execute_result"
    }
   ],
   "source": [
    "m1_df = convert_matrix_df(m1)\n",
    "m1_df"
   ]
  },
  {
   "cell_type": "code",
   "execution_count": 5,
   "metadata": {},
   "outputs": [
    {
     "data": {
      "text/html": [
       "<div>\n",
       "<style scoped>\n",
       "    .dataframe tbody tr th:only-of-type {\n",
       "        vertical-align: middle;\n",
       "    }\n",
       "\n",
       "    .dataframe tbody tr th {\n",
       "        vertical-align: top;\n",
       "    }\n",
       "\n",
       "    .dataframe thead th {\n",
       "        text-align: right;\n",
       "    }\n",
       "</style>\n",
       "<table border=\"1\" class=\"dataframe\">\n",
       "  <thead>\n",
       "    <tr style=\"text-align: right;\">\n",
       "      <th></th>\n",
       "      <th>0</th>\n",
       "      <th>1</th>\n",
       "      <th>2</th>\n",
       "      <th>3</th>\n",
       "      <th>4</th>\n",
       "      <th>5</th>\n",
       "    </tr>\n",
       "  </thead>\n",
       "  <tbody>\n",
       "    <tr>\n",
       "      <th>0</th>\n",
       "      <td>0</td>\n",
       "      <td>2</td>\n",
       "      <td>3</td>\n",
       "      <td>8</td>\n",
       "      <td>14</td>\n",
       "      <td>18</td>\n",
       "    </tr>\n",
       "    <tr>\n",
       "      <th>1</th>\n",
       "      <td>2</td>\n",
       "      <td>0</td>\n",
       "      <td>3</td>\n",
       "      <td>8</td>\n",
       "      <td>14</td>\n",
       "      <td>18</td>\n",
       "    </tr>\n",
       "    <tr>\n",
       "      <th>2</th>\n",
       "      <td>3</td>\n",
       "      <td>3</td>\n",
       "      <td>0</td>\n",
       "      <td>8</td>\n",
       "      <td>14</td>\n",
       "      <td>18</td>\n",
       "    </tr>\n",
       "    <tr>\n",
       "      <th>3</th>\n",
       "      <td>8</td>\n",
       "      <td>8</td>\n",
       "      <td>8</td>\n",
       "      <td>0</td>\n",
       "      <td>14</td>\n",
       "      <td>18</td>\n",
       "    </tr>\n",
       "    <tr>\n",
       "      <th>4</th>\n",
       "      <td>14</td>\n",
       "      <td>14</td>\n",
       "      <td>14</td>\n",
       "      <td>14</td>\n",
       "      <td>0</td>\n",
       "      <td>18</td>\n",
       "    </tr>\n",
       "    <tr>\n",
       "      <th>5</th>\n",
       "      <td>18</td>\n",
       "      <td>18</td>\n",
       "      <td>18</td>\n",
       "      <td>18</td>\n",
       "      <td>18</td>\n",
       "      <td>0</td>\n",
       "    </tr>\n",
       "  </tbody>\n",
       "</table>\n",
       "</div>"
      ],
      "text/plain": [
       "    0   1   2   3   4   5\n",
       "0   0   2   3   8  14  18\n",
       "1   2   0   3   8  14  18\n",
       "2   3   3   0   8  14  18\n",
       "3   8   8   8   0  14  18\n",
       "4  14  14  14  14   0  18\n",
       "5  18  18  18  18  18   0"
      ]
     },
     "execution_count": 5,
     "metadata": {},
     "output_type": "execute_result"
    }
   ],
   "source": [
    "m2_df = convert_matrix_df(m2)\n",
    "m2_df"
   ]
  },
  {
   "cell_type": "markdown",
   "metadata": {},
   "source": [
    "In the context of molecular phylogenetics, an additive matrix is a technique for displaying the evolutionary distances between sequences. This matrix shows the evolutionary changes that have taken place between various biological sequences, including sequences of DNA, RNA, and proteins.\n",
    "Based on:\n",
    "* Buneman’s 4-point condition Theorem:  M is additive if and only if the 4-point condition is satisfied\n",
    "* 3-point condition Theorem: M is ultrametric if and only if the 3-point condition is satisfied"
   ]
  },
  {
   "cell_type": "code",
   "execution_count": 6,
   "metadata": {},
   "outputs": [],
   "source": [
    "def is_additive(matrix):    \n",
    "    comb = it.combinations(range(len(matrix)),4)\n",
    "    for groupe in comb:\n",
    "        i,j,k,l=groupe\n",
    "        if not (matrix[i,j]+matrix[k,l]<=max(matrix[i,k]+matrix[j,l],matrix[i,l]+matrix[j,k])):\n",
    "            return False\n",
    "    return True\n",
    "\n",
    "def is_ultrametrix(matrix):\n",
    "    comb=it.combinations(range(len(matrix)),3)\n",
    "    for groupe in comb:\n",
    "        i,j,k=groupe\n",
    "        if not(matrix[i,k] <= max(matrix[i,j], matrix[j,k])):\n",
    "            return False\n",
    "    return True"
   ]
  },
  {
   "cell_type": "code",
   "execution_count": 7,
   "metadata": {},
   "outputs": [
    {
     "name": "stdout",
     "output_type": "stream",
     "text": [
      "is M1 additive True\n",
      "is M2 ultrametrix True\n"
     ]
    }
   ],
   "source": [
    "print(\"is M1 additive\", is_additive(m1))\n",
    "print(\"is M2 ultrametrix\", is_ultrametrix(m2))"
   ]
  },
  {
   "cell_type": "code",
   "execution_count": 8,
   "metadata": {},
   "outputs": [],
   "source": [
    "def cluster(df_matrix,i):\n",
    "    return sum(df_matrix.iloc[:, i])\n",
    "\n",
    "def all_cluster(df_matrix):\n",
    "    for column in df_matrix.columns:\n",
    "        print(\"Number of cluster in \",column,\"is\",cluster(df_matrix,column)) "
   ]
  },
  {
   "cell_type": "code",
   "execution_count": 9,
   "metadata": {},
   "outputs": [
    {
     "name": "stdout",
     "output_type": "stream",
     "text": [
      "Number of cluster in  0 is 27\n",
      "Number of cluster in  1 is 31\n",
      "Number of cluster in  2 is 27\n",
      "Number of cluster in  3 is 37\n"
     ]
    }
   ],
   "source": [
    "all_cluster(m1_df)"
   ]
  },
  {
   "cell_type": "code",
   "execution_count": 10,
   "metadata": {},
   "outputs": [
    {
     "name": "stdout",
     "output_type": "stream",
     "text": [
      "Number of cluster in  0 is 45\n",
      "Number of cluster in  1 is 45\n",
      "Number of cluster in  2 is 46\n",
      "Number of cluster in  3 is 56\n",
      "Number of cluster in  4 is 74\n",
      "Number of cluster in  5 is 90\n"
     ]
    }
   ],
   "source": [
    "all_cluster(m2_df)"
   ]
  },
  {
   "cell_type": "markdown",
   "metadata": {},
   "source": [
    "---"
   ]
  },
  {
   "cell_type": "markdown",
   "metadata": {},
   "source": [
    "The Newick format is a technique for representing hierarchical tree structures. It is frequently used in computer science to depict hierarchical connections and in biology to describe phylogenetic trees, which show the evolutionary links between species."
   ]
  },
  {
   "cell_type": "markdown",
   "metadata": {},
   "source": [
    "UPGMA steps: \n",
    "1. Align & name \n",
    "2. Compare sequences using pairwise sequence alignment \n",
    "3. Count the mismatches and records them in the mismatche matrix \n",
    "4. Create a new cluster $u$ that joins the Closest Pair $(i,j)$ with the smallest distance $d_{i,j}$\n",
    "5. Update the MatriX replace the rows and columns that correspond to the two clustered items with a new row and column. Based on the average distance from the newly.\n",
    "6. Repeat step 4 and 5 until we get one cluster  \n"
   ]
  },
  {
   "cell_type": "code",
   "execution_count": 11,
   "metadata": {},
   "outputs": [],
   "source": [
    "# Sequences \n",
    "a = \"ATCGATCG\"\n",
    "b = \"GTAGACGA\"\n",
    "c = \"ACCGTACG\"\n",
    "d = \"TCAGTCAG\"\n",
    "e = \"GCCTACAG\""
   ]
  },
  {
   "cell_type": "code",
   "execution_count": 12,
   "metadata": {},
   "outputs": [],
   "source": [
    "# Compute pairwise sequence alignment\n",
    "# Both sequences must possess identical lengths.\n",
    "def pairwise_sequence_alignment(seq_1,seq_2):\n",
    "    count_missmatch = 0\n",
    "    for i in range(len(seq_1)):\n",
    "        if seq_1[i] != seq_2[i]:\n",
    "            count_missmatch += 1\n",
    "    return count_missmatch"
   ]
  },
  {
   "cell_type": "code",
   "execution_count": 13,
   "metadata": {},
   "outputs": [],
   "source": [
    "# Count the mismatches and records them in the mismatche matrix\n",
    "# min of mismatche_matrix is added in this function since we will use it later \n",
    "# outuput: dataframe \n",
    "def  mismatche_matrix(seq_list, seq_names):\n",
    "    n = len(seq_list)\n",
    "    mismatch_m = np.zeros((n,n))\n",
    "\n",
    "    for i in range(n):\n",
    "        sub_seq_list = seq_list[i+1:]\n",
    "        for j in range(len(sub_seq_list)):\n",
    "            matrix_j = j+i+1\n",
    "            pairwise_seq = pairwise_sequence_alignment(seq_list[i],sub_seq_list[j])\n",
    "            mismatch_m[i][matrix_j] = mismatch_m[matrix_j][i] = pairwise_seq\n",
    "\n",
    "    mismatch_matrix_df = pd.DataFrame(data=mismatch_m, columns=seq_names ,index=seq_names)\n",
    "    \n",
    "    return mismatch_matrix_df"
   ]
  },
  {
   "cell_type": "code",
   "execution_count": 14,
   "metadata": {},
   "outputs": [],
   "source": [
    "# This function return Minimum value greater than 0 in a dataframe\n",
    "def min_val_index_df(df): \n",
    "    # Finding the minimum value greater than 0\n",
    "    min_val = df[df > 0].min().min()\n",
    "\n",
    "    # Getting the indices of the minimum value\n",
    "    indices = df[df == min_val].stack().index.tolist()\n",
    "    \n",
    "    return min_val, list(indices[-1])"
   ]
  },
  {
   "cell_type": "code",
   "execution_count": 15,
   "metadata": {},
   "outputs": [],
   "source": [
    "# This function calculate the distance between the new cluster and the others\n",
    "def cal_cluster_distance(df,min_indices):\n",
    "    cluster_missmatch_socre = []\n",
    "    cluster_i = min_indices[0]\n",
    "    cluster_j = min_indices[1]\n",
    "    for col in df.columns: \n",
    "        if col is not cluster_i and col is not cluster_j :\n",
    "            cluster_missmatch_socre.append((df[col][cluster_i]+df[col][cluster_j]) / 2)\n",
    "    return cluster_missmatch_socre"
   ]
  },
  {
   "cell_type": "code",
   "execution_count": 16,
   "metadata": {},
   "outputs": [],
   "source": [
    "def upgma_one_iter(df,dict_tree_newick_format):\n",
    "\n",
    "    # Find the pairs (i,j)\n",
    "    min_val, min_indices = min_val_index_df(df)\n",
    "\n",
    "    # Create new cluster  for pairs (i,j)\n",
    "    ## intialize the new cluster name u \n",
    "    new_cluster_name = min_indices[0]+min_indices[1]\n",
    "    ## calculate the distance between u_i and u_j\n",
    "    cluster_branch_distance = min_val/2\n",
    "    ## update the tree_newick_format \n",
    "    i = str(min_indices[0])\n",
    "    j = min_indices[1]\n",
    "\n",
    "    if len(min_indices[0]) > 1:\n",
    "        i = dict_tree_newick_format[min_indices[0]] \n",
    "    if len(min_indices[1]) > 1:\n",
    "        j = dict_tree_newick_format[min_indices[1]] \n",
    "\n",
    "    tree_newick_format = \"(\"+i+\":\"+str(cluster_branch_distance)+\",\"+j+\":\"+str(cluster_branch_distance)+\")\"\n",
    "\n",
    "    if len(new_cluster_name) > 1:\n",
    "        dict_tree_newick_format[new_cluster_name] = tree_newick_format\n",
    "        \n",
    "    ## Compute the distance between the new cluster and the others \n",
    "    cluster_missmatch_socre = cal_cluster_distance(df,min_indices)\n",
    "\n",
    "\n",
    "    # Upadte the mismatch matrix\n",
    "    ## Delete pairs i j from the df \n",
    "    df.drop(min_indices, axis=1, inplace=True)\n",
    "    df.drop(min_indices, axis=0, inplace=True)\n",
    "\n",
    "    ## create new col with new cluster name and a new row \n",
    "    ### add col\n",
    "    df[new_cluster_name] = cluster_missmatch_socre\n",
    "    ### add row \n",
    "    cluster_missmatch_socre.append(0)\n",
    "    df.loc[new_cluster_name] = cluster_missmatch_socre\n",
    "    \n",
    "    # return the new mismatch_matrix and the tree_newick_format\n",
    "    return df,tree_newick_format"
   ]
  },
  {
   "cell_type": "markdown",
   "metadata": {},
   "source": [
    "----"
   ]
  },
  {
   "cell_type": "code",
   "execution_count": 34,
   "metadata": {},
   "outputs": [
    {
     "name": "stdout",
     "output_type": "stream",
     "text": [
      "     A    B    C    D    E\n",
      "A  0.0  5.0  3.0  6.0  5.0\n",
      "B  5.0  0.0  7.0  5.0  5.0\n",
      "C  3.0  7.0  0.0  4.0  5.0\n",
      "D  6.0  5.0  4.0  0.0  4.0\n",
      "E  5.0  5.0  5.0  4.0  0.0\n",
      "(C:1.5,A:1.5)\n",
      "      B    D    E   CA\n",
      "B   0.0  5.0  5.0  6.0\n",
      "D   5.0  0.0  4.0  5.0\n",
      "E   5.0  4.0  0.0  5.0\n",
      "CA  6.0  5.0  5.0  0.0\n",
      "(E:2.0,D:2.0)\n",
      "      B   CA   ED\n",
      "B   0.0  6.0  5.0\n",
      "CA  6.0  0.0  5.0\n",
      "ED  5.0  5.0  0.0\n",
      "((E:2.0,D:2.0):2.5,(C:1.5,A:1.5):2.5)\n",
      "        B  EDCA\n",
      "B     0.0   5.5\n",
      "EDCA  5.5   0.0\n",
      "(((E:2.0,D:2.0):2.5,(C:1.5,A:1.5):2.5):2.75,B:2.75)\n"
     ]
    }
   ],
   "source": [
    "seq_list = [a,b,c,d,e]\n",
    "seq_names = ['A','B','C','D','E']\n",
    "mismatch_matrix_df = mismatche_matrix(seq_list,seq_names)\n",
    "\n",
    "dict_tree_newick_format = {} \n",
    "while len(mismatch_matrix_df) > 1: \n",
    "    print(mismatch_matrix_df)\n",
    "    mismatch_matrix_df,tree_newick_format =  upgma_one_iter(mismatch_matrix_df,dict_tree_newick_format)\n",
    "    print(tree_newick_format)\n",
    "    mismatch_matrix_df\n",
    "    "
   ]
  },
  {
   "cell_type": "markdown",
   "metadata": {},
   "source": [
    "----"
   ]
  }
 ],
 "metadata": {
  "kernelspec": {
   "display_name": "Python 3",
   "language": "python",
   "name": "python3"
  },
  "language_info": {
   "codemirror_mode": {
    "name": "ipython",
    "version": 3
   },
   "file_extension": ".py",
   "mimetype": "text/x-python",
   "name": "python",
   "nbconvert_exporter": "python",
   "pygments_lexer": "ipython3",
   "version": "3.11.5"
  }
 },
 "nbformat": 4,
 "nbformat_minor": 2
}
