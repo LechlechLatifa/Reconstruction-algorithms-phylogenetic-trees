{
 "cells": [
  {
   "cell_type": "code",
   "execution_count": 6,
   "metadata": {},
   "outputs": [],
   "source": [
    "import numpy as np \n",
    "import pandas as pd\n",
    "import itertools as it"
   ]
  },
  {
   "cell_type": "markdown",
   "metadata": {},
   "source": [
    "For a given tree T, we can calculate a distance between two leafs $i$ and $j$, noted as $d_{ij}(T)$"
   ]
  },
  {
   "cell_type": "code",
   "execution_count": 5,
   "metadata": {},
   "outputs": [],
   "source": [
    "# distance matrix \n",
    "\n",
    "m1 = np.array([[0,8,7,12],\n",
    "               [8,0,9,14],\n",
    "               [7,9,0,11],\n",
    "               [12,14,11,0]])\n",
    "\n",
    "m2 = np.array([[0,2,3,8,14,18],\n",
    "               [2,0,3,8,14,18],\n",
    "               [3,3,0,8,14,18],\n",
    "               [8,8,8,0,14,18],\n",
    "               [14,14,14,14,0,18],\n",
    "               [18,18,18,18,18,0]])"
   ]
  },
  {
   "cell_type": "markdown",
   "metadata": {},
   "source": [
    "In the context of molecular phylogenetics, an additive matrix is a technique for displaying the evolutionary distances between sequences. This matrix shows the evolutionary changes that have taken place between various biological sequences, including sequences of DNA, RNA, and proteins.\n",
    "Based on:\n",
    "* Buneman’s 4-point condition Theorem:  M is additive if and only if the 4-point condition is satisfied\n",
    "* 3-point condition Theorem: M is ultrametric if and only if the 3-point condition is satisfied"
   ]
  },
  {
   "cell_type": "code",
   "execution_count": 9,
   "metadata": {},
   "outputs": [],
   "source": [
    "def is_additive(matrix):    \n",
    "    comb = it.combinations(range(len(matrix)),4)\n",
    "    for groupe in comb:\n",
    "        i,j,k,l=groupe\n",
    "        if not (matrix[i,j]+matrix[k,l]<=max(matrix[i,k]+matrix[j,l],matrix[i,l]+matrix[j,k])):\n",
    "            return False\n",
    "    return True\n",
    "\n",
    "def is_ultrametrix(matrix):\n",
    "    comb=it.combinations(range(len(matrix)),3)\n",
    "    for groupe in comb:\n",
    "        i,j,k=groupe\n",
    "        if not(matrix[i,k] <= max(matrix[i,j], matrix[j,k])):\n",
    "            return False\n",
    "    return True"
   ]
  },
  {
   "cell_type": "code",
   "execution_count": 10,
   "metadata": {},
   "outputs": [
    {
     "name": "stdout",
     "output_type": "stream",
     "text": [
      "is M1 additive True\n",
      "is M2 ultrametrix True\n"
     ]
    }
   ],
   "source": [
    "print(\"is M1 additive\", is_additive(m1))\n",
    "print(\"is M2 ultrametrix\", is_ultrametrix(m2))"
   ]
  },
  {
   "cell_type": "code",
   "execution_count": 11,
   "metadata": {},
   "outputs": [],
   "source": [
    "def cluster(df_matrix,i):\n",
    "    return sum(df_matrix.iloc[i])"
   ]
  },
  {
   "cell_type": "code",
   "execution_count": null,
   "metadata": {},
   "outputs": [],
   "source": []
  }
 ],
 "metadata": {
  "kernelspec": {
   "display_name": "Python 3",
   "language": "python",
   "name": "python3"
  },
  "language_info": {
   "codemirror_mode": {
    "name": "ipython",
    "version": 3
   },
   "file_extension": ".py",
   "mimetype": "text/x-python",
   "name": "python",
   "nbconvert_exporter": "python",
   "pygments_lexer": "ipython3",
   "version": "3.11.5"
  }
 },
 "nbformat": 4,
 "nbformat_minor": 2
}
